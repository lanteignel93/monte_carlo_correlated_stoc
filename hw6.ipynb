{
 "cells": [
  {
   "cell_type": "code",
   "execution_count": 1,
   "metadata": {},
   "outputs": [],
   "source": [
    "import numpy as np\n",
    "from tqdm import tqdm\n",
    "from scipy import stats"
   ]
  },
  {
   "cell_type": "code",
   "execution_count": 2,
   "metadata": {},
   "outputs": [],
   "source": [
    "class Dynamics:\n",
    "    pass"
   ]
  },
  {
   "cell_type": "markdown",
   "metadata": {},
   "source": [
    "## Problem 1"
   ]
  },
  {
   "cell_type": "code",
   "execution_count": 3,
   "metadata": {},
   "outputs": [],
   "source": [
    "hw6p1dynamics=Dynamics()\n",
    "hw6p1dynamics.S0 = np.array([100,110])\n",
    "hw6p1dynamics.r = 0.05\n",
    "hw6p1dynamics.correlations = np.array([[1.,0.8],[0.8,1.]])  #You fill this in with a 2x2 correlation matrix\n",
    "hw6p1dynamics.sigma = np.diag([0.3, 0.2])"
   ]
  },
  {
   "cell_type": "code",
   "execution_count": 4,
   "metadata": {},
   "outputs": [],
   "source": [
    "class Contract:\n",
    "    pass"
   ]
  },
  {
   "cell_type": "code",
   "execution_count": 5,
   "metadata": {},
   "outputs": [],
   "source": [
    "hw6p1contract=Contract() \n",
    "hw6p1contract.K = 110 \n",
    "hw6p1contract.T = 1.0 \n",
    "hw6p1contract.weights = np.array([1/2, 1/2])"
   ]
  },
  {
   "cell_type": "code",
   "execution_count": 6,
   "metadata": {},
   "outputs": [],
   "source": [
    "class MC:\n",
    "    pass"
   ]
  },
  {
   "cell_type": "code",
   "execution_count": 7,
   "metadata": {},
   "outputs": [],
   "source": [
    "hw6p1MC=MC()\n",
    "hw6p1MC.M = 10000  # Number of paths.  \n",
    "hw6p1MC.seed = 0  # Seeding the random number generator with a specified number helps make the calculations reproducible"
   ]
  },
  {
   "cell_type": "code",
   "execution_count": 8,
   "metadata": {},
   "outputs": [],
   "source": [
    "def BS(sigma,S,r,R,K,T):\n",
    "    F = S*np.exp(R*T)\n",
    "    sd = sigma*np.sqrt(T)\n",
    "    if sd==0:\n",
    "        return np.maximum(np.exp(-r*T)*(F-K),0)\n",
    "    d1 = np.log(F/K)/sd+sd/2\n",
    "    d2 = np.log(F/K)/sd-sd/2\n",
    "    return np.exp(-r*T)*(F*stats.norm.cdf(d1)-K*stats.norm.cdf(d2))\n",
    "\n",
    "def pricer_callonbasket_GBM_MC(contract,dynamics,MC):\n",
    "\n",
    "    np.random.seed(MC.seed)  #seed the random number generator\n",
    "    \n",
    "    S0, r, corr, sigma = dynamics.S0, dynamics.r, dynamics.correlations, dynamics.sigma\n",
    "    K, T, weights = contract.K, contract.T, contract.weights\n",
    "    M = MC.M\n",
    "    \n",
    "    if MC.antithetic is True and MC.control is False:\n",
    "        \n",
    "        C = np.zeros(2*M)\n",
    "        \n",
    "        for i in tqdm(range(M)):\n",
    "            \n",
    "            cov = T* (sigma @ corr @ sigma.T)\n",
    "            Z1 = np.random.multivariate_normal(np.zeros(len(S0)), cov)\n",
    "            Z2 = -Z1\n",
    "            S1 = np.zeros(len(Z1))\n",
    "            S2 = np.zeros(len(Z2))\n",
    "            for j, z in enumerate(Z1):\n",
    "                S1[j] = S0[j]*np.exp((r-(sigma[j][j]**2)/2)*T+z)\n",
    "            for j, z in enumerate(Z2):\n",
    "                S2[j] = S0[j]*np.exp((r-(sigma[j][j]**2)/2)*T+z)    \n",
    "                \n",
    "            H1 = weights @ S1\n",
    "            H2 = weights @ S2\n",
    "            \n",
    "            C[2*i] = np.exp(-r*T)*np.maximum(H1-K,0)\n",
    "            C[2*i+1] = np.exp(-r*T)*np.maximum(H2-K,0)\n",
    "            \n",
    "        call_price = np.mean(C)\n",
    "        standard_error = np.std(C)/np.sqrt(len(C))\n",
    "    \n",
    "    elif MC.antithetic is False and MC.control is True:\n",
    "        \n",
    "        Y = np.zeros(M)\n",
    "        Y_star = np.zeros(M)\n",
    "        \n",
    "        for i in tqdm(range(M)):\n",
    "            \n",
    "            cov = T* (sigma @ corr @ sigma.T)\n",
    "            Z = np.random.multivariate_normal(np.zeros(len(S0)), cov)\n",
    "            S = np.zeros(len(Z))\n",
    "            for j, z in enumerate(Z):\n",
    "                S[j] = S0[j]*np.exp((r-(sigma[j][j]**2)/2)*T+z)\n",
    "                \n",
    "            H = weights @ S\n",
    "            G = np.prod(S)**(1/len(S))\n",
    "            Y[i] = np.exp(-r*T)*np.maximum(H-K,0)\n",
    "            Y_star[i] = np.exp(-r*T)*np.maximum(G-K,0)\n",
    "        \n",
    "        cov = np.cov(Y,Y_star)\n",
    "        beta = cov[0][1]/cov[1][1] # Covariance / Variance\n",
    "        \n",
    "        S0_star = np.prod(S0)**(1/len(S0))\n",
    "        R_star = r + (1/8)*(2*corr[0][1]*sigma[0][0]*sigma[1][1]-sigma[0][0]**2-sigma[1][1]**2)\n",
    "        sigma_star = np.sqrt((1/4)*(sigma[0][0]**2+2*corr[0][1]*sigma[1][1]*sigma[0][0]+sigma[1][1]**2))\n",
    "        \n",
    "        YM = np.mean(Y)\n",
    "        YM_star = np.mean(Y_star)\n",
    "        C_star = BS(sigma_star,S0_star,r,R_star,K,T)\n",
    "        \n",
    "        Y_CV =  Y + beta*(C_star - Y_star)\n",
    "        \n",
    "        call_price = np.mean(Y_CV)\n",
    "        standard_error = np.std(Y_CV)/np.sqrt(len(Y_CV))\n",
    "    \n",
    "    elif MC.antithetic is False and MC.control is False:\n",
    "        \n",
    "        C = np.zeros(M)\n",
    "        cov = T* (sigma @ corr @ sigma.T)\n",
    "        \n",
    "        for i in tqdm(range(M)):\n",
    "            \n",
    "            Z = np.random.multivariate_normal(np.zeros(len(S0)), cov)\n",
    "            S = np.zeros(len(Z))\n",
    "            for j, z in enumerate(Z):\n",
    "                S[j] = S0[j]*np.exp((r-(sigma[j][j]**2)/2)*T+z)\n",
    "                \n",
    "            H = weights @ S\n",
    "            C[i] = np.exp(-r*T)*np.maximum(H-K,0)\n",
    "            \n",
    "        call_price = np.mean(C)\n",
    "        standard_error = np.std(C)/np.sqrt(len(C))\n",
    "                \n",
    "            \n",
    "    \n",
    "    # You complete the coding of this function\n",
    "    # You are not required to support the case where MC.control = MC.antithetic = True\n",
    "    # (simultaneous use of control variate and antithetic)\n",
    "    # But you are required to support the other 3 possible settings of MC.antithetic/MC.control \n",
    "    # namely False/False, True/False, False/True.\n",
    "    # (ordinary MC, antithetic without control, control without antithetic)\n",
    "        \n",
    "    return(call_price, standard_error)\n",
    "        "
   ]
  },
  {
   "cell_type": "code",
   "execution_count": 9,
   "metadata": {},
   "outputs": [
    {
     "name": "stderr",
     "output_type": "stream",
     "text": [
      "100%|██████████████████████████████████████████████████████████████████████████| 10000/10000 [00:01<00:00, 8950.72it/s]"
     ]
    },
    {
     "name": "stdout",
     "output_type": "stream",
     "text": [
      "10.028517056790681 0.1662128969435554\n"
     ]
    },
    {
     "name": "stderr",
     "output_type": "stream",
     "text": [
      "\n"
     ]
    }
   ],
   "source": [
    "hw6p1MC.antithetic = False  \n",
    "hw6p1MC.control = False \n",
    "(call_price_ordinary, std_err_ordinary) = pricer_callonbasket_GBM_MC(hw6p1contract,hw6p1dynamics,hw6p1MC)\n",
    "print(call_price_ordinary, std_err_ordinary)"
   ]
  },
  {
   "cell_type": "code",
   "execution_count": 10,
   "metadata": {},
   "outputs": [
    {
     "name": "stderr",
     "output_type": "stream",
     "text": [
      "100%|██████████████████████████████████████████████████████████████████████████| 10000/10000 [00:01<00:00, 6980.27it/s]"
     ]
    },
    {
     "name": "stdout",
     "output_type": "stream",
     "text": [
      "9.905530841296681 0.11814261061406257\n"
     ]
    },
    {
     "name": "stderr",
     "output_type": "stream",
     "text": [
      "\n"
     ]
    }
   ],
   "source": [
    "hw6p1MC.antithetic = True  \n",
    "hw6p1MC.control = False \n",
    "(call_price_AV, std_err_AV) = pricer_callonbasket_GBM_MC(hw6p1contract,hw6p1dynamics,hw6p1MC)\n",
    "print(call_price_AV, std_err_AV)"
   ]
  },
  {
   "cell_type": "code",
   "execution_count": 11,
   "metadata": {},
   "outputs": [
    {
     "name": "stderr",
     "output_type": "stream",
     "text": [
      "100%|██████████████████████████████████████████████████████████████████████████| 10000/10000 [00:01<00:00, 7424.87it/s]"
     ]
    },
    {
     "name": "stdout",
     "output_type": "stream",
     "text": [
      "9.98526430014317 0.004439750432672437\n"
     ]
    },
    {
     "name": "stderr",
     "output_type": "stream",
     "text": [
      "\n"
     ]
    }
   ],
   "source": [
    "hw6p1MC.antithetic = False\n",
    "hw6p1MC.control = True \n",
    "(call_price_CV, std_err_CV) = pricer_callonbasket_GBM_MC(hw6p1contract,hw6p1dynamics,hw6p1MC)\n",
    "print(call_price_CV, std_err_CV)"
   ]
  },
  {
   "cell_type": "markdown",
   "metadata": {},
   "source": [
    "## Problem 2"
   ]
  },
  {
   "cell_type": "code",
   "execution_count": 12,
   "metadata": {},
   "outputs": [],
   "source": [
    "hw6p2dynamics=Dynamics()\n",
    "hw6p2dynamics.sigma = 0.2\n",
    "hw6p2dynamics.S0 = 100\n",
    "hw6p2dynamics.r = 0.02"
   ]
  },
  {
   "cell_type": "code",
   "execution_count": 13,
   "metadata": {},
   "outputs": [],
   "source": [
    "hw6p2contract=Contract()\n",
    "hw6p2contract.K = 150\n",
    "hw6p2contract.T = 1"
   ]
  },
  {
   "cell_type": "code",
   "execution_count": 14,
   "metadata": {},
   "outputs": [],
   "source": [
    "hw6p2MC=MC()\n",
    "hw6p2MC.M = 100000  # Number of paths\n",
    "hw6p2MC.seed = 0  # Seeding the random number generator with a specified number helps make the calculations reproducible"
   ]
  },
  {
   "cell_type": "code",
   "execution_count": 15,
   "metadata": {},
   "outputs": [],
   "source": [
    "def pricer_call_GBM_MCwithdriftchange(contract,dynamics,MC):\n",
    "\n",
    "    np.random.seed(MC.seed)  #seed the random number generator\n",
    "    \n",
    "    sigma, S0, r = dynamics.sigma, dynamics.S0, dynamics.r\n",
    "    K, T = contract.K, contract.T\n",
    "    M, lamb = MC.M, MC.lamb\n",
    "    \n",
    "    Y = np.zeros(M)\n",
    "\n",
    "    for i in tqdm(range(M)):\n",
    "        Z = np.random.normal()\n",
    "        S = S0*np.exp((r+lamb*sigma-(sigma**2)/2)*T+sigma*np.sqrt(T)*Z)\n",
    "        Y[i] = np.exp(-r*T)*np.maximum(S-K,0)\n",
    "        \n",
    "        if abs(lamb - 0) > 1e-12:\n",
    "            IS = np.exp(-lamb*np.sqrt(T)*Z-0.5*T*lamb**2)\n",
    "            Y[i] = IS*Y[i]\n",
    "    \n",
    "    call_price = np.mean(Y)\n",
    "    standard_error = np.std(Y)/np.sqrt(len(Y))\n",
    "    # You complete the coding of this function\n",
    "        \n",
    "    return(call_price, standard_error)\n",
    "        "
   ]
  },
  {
   "cell_type": "code",
   "execution_count": 16,
   "metadata": {},
   "outputs": [
    {
     "name": "stderr",
     "output_type": "stream",
     "text": [
      "100%|███████████████████████████████████████████████████████████████████████| 100000/100000 [00:01<00:00, 89407.06it/s]"
     ]
    },
    {
     "name": "stdout",
     "output_type": "stream",
     "text": [
      "0.24852756686116262 0.007435819033778785\n"
     ]
    },
    {
     "name": "stderr",
     "output_type": "stream",
     "text": [
      "\n"
     ]
    }
   ],
   "source": [
    "hw6p2MC.lamb = 0  # Zero drift adjustment gives ordinary MC\n",
    "(call_price_ordinary, std_err_ordinary) =  pricer_call_GBM_MCwithdriftchange(hw6p2contract,hw6p2dynamics,hw6p2MC)\n",
    "print(call_price_ordinary, std_err_ordinary)"
   ]
  },
  {
   "cell_type": "code",
   "execution_count": 17,
   "metadata": {},
   "outputs": [
    {
     "name": "stderr",
     "output_type": "stream",
     "text": [
      "100%|███████████████████████████████████████████████████████████████████████| 100000/100000 [00:01<00:00, 62592.88it/s]"
     ]
    },
    {
     "name": "stdout",
     "output_type": "stream",
     "text": [
      "0.24989864051776664 0.0007761247577340426\n"
     ]
    },
    {
     "name": "stderr",
     "output_type": "stream",
     "text": [
      "\n"
     ]
    }
   ],
   "source": [
    "hw6p2MC.lamb =  (1/hw6p2dynamics.sigma)*(np.log(hw6p2contract.K*1.1/hw6p2dynamics.S0)/hw6p2contract.T-hw6p2dynamics.r)\n",
    "(call_price_importsamp, std_err_importsamp) =  pricer_call_GBM_MCwithdriftchange(hw6p2contract,hw6p2dynamics,hw6p2MC)\n",
    "print(call_price_importsamp, std_err_importsamp)"
   ]
  },
  {
   "cell_type": "code",
   "execution_count": 18,
   "metadata": {},
   "outputs": [
    {
     "data": {
      "text/plain": [
       "2.4038764395624455"
      ]
     },
     "execution_count": 18,
     "metadata": {},
     "output_type": "execute_result"
    }
   ],
   "source": [
    "hw6p2MC.lamb"
   ]
  },
  {
   "cell_type": "code",
   "execution_count": null,
   "metadata": {},
   "outputs": [],
   "source": []
  }
 ],
 "metadata": {
  "anaconda-cloud": {},
  "kernelspec": {
   "display_name": "Python 3",
   "language": "python",
   "name": "python3"
  },
  "language_info": {
   "codemirror_mode": {
    "name": "ipython",
    "version": 3
   },
   "file_extension": ".py",
   "mimetype": "text/x-python",
   "name": "python",
   "nbconvert_exporter": "python",
   "pygments_lexer": "ipython3",
   "version": "3.8.10"
  }
 },
 "nbformat": 4,
 "nbformat_minor": 1
}
